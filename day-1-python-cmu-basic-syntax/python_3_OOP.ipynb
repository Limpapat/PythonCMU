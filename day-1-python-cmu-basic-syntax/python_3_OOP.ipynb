{
 "cells": [
  {
   "cell_type": "markdown",
   "metadata": {},
   "source": [
    "# 9 Object-Oriented Programming"
   ]
  },
  {
   "cell_type": "code",
   "execution_count": 1,
   "metadata": {
    "colab": {
     "base_uri": "https://localhost:8080/"
    },
    "executionInfo": {
     "elapsed": 12,
     "status": "ok",
     "timestamp": 1662803463238,
     "user": {
      "displayName": "Wanchaloem Nadda",
      "userId": "10939612489925261212"
     },
     "user_tz": -420
    },
    "id": "GMyP5yASqvVO",
    "outputId": "8dc7a38d-182f-44d2-eb6b-5e4f8877a63e"
   },
   "outputs": [
    {
     "name": "stdout",
     "output_type": "stream",
     "text": [
      "500\n",
      "470\n",
      "5000\n",
      "['cat', 'dog']\n",
      "4980\n",
      "\n",
      "====withdraw====\n",
      "['cat', 'dog']\n",
      "4880\n"
     ]
    }
   ],
   "source": [
    "class User:\n",
    "    def __init__(self,wallet): \n",
    "        self.wallet=wallet \n",
    "    def withdraw(self,amount): \n",
    "        self.wallet=self.wallet-amount\n",
    "\n",
    "class Customer(User):\n",
    "    def __init__(self,wallet): \n",
    "        super().__init__(wallet)\n",
    "        self.cart=[] \n",
    "    def buy(self,product,price):\n",
    "        self.cart.append(product) \n",
    "        self.wallet=self.wallet-price\n",
    "\n",
    "U1=User(500) \n",
    "print(U1.wallet) \n",
    "U1.withdraw(30) \n",
    "print(U1.wallet) \n",
    "C1=Customer(5000) \n",
    "print(C1.wallet) \n",
    "C1.buy(\"cat\",10) \n",
    "C1.buy(\"dog\",10) \n",
    "print(C1.cart) \n",
    "print(C1.wallet) \n",
    "print(\"\\n====withdraw====\") \n",
    "C1.withdraw(100) \n",
    "print(C1.cart) \n",
    "print(C1.wallet)"
   ]
  },
  {
   "cell_type": "markdown",
   "metadata": {
    "id": "_1PDaxv8uFNv"
   },
   "source": [
    "#Linear regression"
   ]
  },
  {
   "cell_type": "code",
   "execution_count": 1,
   "metadata": {
    "colab": {
     "base_uri": "https://localhost:8080/"
    },
    "executionInfo": {
     "elapsed": 757,
     "status": "ok",
     "timestamp": 1662803463986,
     "user": {
      "displayName": "Wanchaloem Nadda",
      "userId": "10939612489925261212"
     },
     "user_tz": -420
    },
    "id": "fQzinFjit12Y",
    "outputId": "31ecb0a2-36fd-4a76-f26c-977002169cdf"
   },
   "outputs": [
    {
     "name": "stdout",
     "output_type": "stream",
     "text": [
      "None None\n",
      "1.018181818181818 4.800000000000001\n",
      "[ 5.81818182  6.83636364  7.85454545  8.87272727  9.89090909 10.90909091\n",
      " 11.92727273 12.94545455 13.96363636 14.98181818]\n",
      "0.9897959183673469\n"
     ]
    }
   ],
   "source": [
    "import numpy as np\n",
    "from  sklearn.metrics import r2_score\n",
    "class LinearModel:\n",
    "    # y= W*X + b\n",
    "    def __init__(self): \n",
    "        self.W=None\n",
    "        self.b=None\n",
    "    \n",
    "    def fit(self, X, y):\n",
    "        W1 = np.sum(X*y)-np.sum(X)*np.sum(y)/X.shape[0]\n",
    "        W2 = np.sum(X**2)-(np.sum(X)**2)/X.shape[0]\n",
    "        self.W = W1/W2\n",
    "        self.b = np.mean(y)-self.W*np.mean(X)\n",
    "\n",
    "    def predict(self, X):\n",
    "        y=self.W*X+self.b\n",
    "        return y\n",
    "    \n",
    "    def score(self,X,y):\n",
    "        return r2_score(self.predict(X),y)\n",
    "\n",
    "model=LinearModel()\n",
    "X=np.array([1,2,3,4,5,6,7,8,9,10])\n",
    "y=np.array([6,7,8,8,10,11,12,13,14,15])\n",
    "print(model.W,model.b)\n",
    "model.fit(X,y)\n",
    "print(model.W,model.b)\n",
    "print(model.predict(X))\n",
    "print(model.score(X,y))"
   ]
  },
  {
   "cell_type": "code",
   "execution_count": 12,
   "metadata": {
    "executionInfo": {
     "elapsed": 8,
     "status": "ok",
     "timestamp": 1662803463988,
     "user": {
      "displayName": "Wanchaloem Nadda",
      "userId": "10939612489925261212"
     },
     "user_tz": -420
    },
    "id": "IKwFt-J9zUNy"
   },
   "outputs": [
    {
     "data": {
      "text/plain": [
       "array([[8.87272727]])"
      ]
     },
     "execution_count": 12,
     "metadata": {},
     "output_type": "execute_result"
    }
   ],
   "source": [
    "import pickle\n",
    "# with open('model.h5', 'wb') as file:\n",
    "#     pickle.dump(model, file)\n",
    "# with open('model.h5', 'rb') as file:\n",
    "#     reg = pickle.load(file)\n",
    "# reg.predict(np.array([[4]]))"
   ]
  },
  {
   "cell_type": "code",
   "execution_count": 14,
   "metadata": {},
   "outputs": [],
   "source": [
    "# dir(model)\n",
    "# ?model.fit"
   ]
  },
  {
   "cell_type": "code",
   "execution_count": null,
   "metadata": {},
   "outputs": [],
   "source": []
  }
 ],
 "metadata": {
  "colab": {
   "authorship_tag": "ABX9TyNQbZ+XfkTaZNrEzYUpyktk",
   "collapsed_sections": [],
   "provenance": []
  },
  "kernelspec": {
   "display_name": "Python 3 (ipykernel)",
   "language": "python",
   "name": "python3"
  },
  "language_info": {
   "codemirror_mode": {
    "name": "ipython",
    "version": 3
   },
   "file_extension": ".py",
   "mimetype": "text/x-python",
   "name": "python",
   "nbconvert_exporter": "python",
   "pygments_lexer": "ipython3",
   "version": "3.9.7"
  }
 },
 "nbformat": 4,
 "nbformat_minor": 1
}
