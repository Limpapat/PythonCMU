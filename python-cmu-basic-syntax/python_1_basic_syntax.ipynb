{
 "cells": [
  {
   "cell_type": "markdown",
   "metadata": {
    "id": "ETGvk7yhcV08"
   },
   "source": [
    "# 0 Google Colab"
   ]
  },
  {
   "cell_type": "markdown",
   "metadata": {
    "id": "lth3J4T_P2Yu"
   },
   "source": [
    "# 0.1 Git clone"
   ]
  },
  {
   "cell_type": "code",
   "execution_count": 1,
   "metadata": {
    "id": "0kaRzakkiu4D"
   },
   "outputs": [],
   "source": [
    "# !git clone https://github.com/wanchaloem-n/Binance-API.git"
   ]
  },
  {
   "cell_type": "markdown",
   "metadata": {
    "id": "-Dh0WKODtiBm"
   },
   "source": [
    "# 0.2 Text"
   ]
  },
  {
   "cell_type": "markdown",
   "metadata": {
    "id": "YSfwIqiWiEFT"
   },
   "source": [
    "Latex"
   ]
  },
  {
   "cell_type": "markdown",
   "metadata": {
    "id": "tbPhL7p3cUhs"
   },
   "source": [
    "\n",
    "$${\\frac {1}{1+e^{-x}}}$$"
   ]
  },
  {
   "cell_type": "markdown",
   "metadata": {
    "id": "vJwgDhA9iBGL"
   },
   "source": [
    "HTML"
   ]
  },
  {
   "cell_type": "markdown",
   "metadata": {
    "id": "LBRXjf-CcvG8"
   },
   "source": [
    "\n",
    "<h1>test</h1>\n",
    "<center><p>test</p></center>"
   ]
  },
  {
   "cell_type": "markdown",
   "metadata": {
    "id": "FUn6LGthiQBa"
   },
   "source": [
    "# 1 Basic syntax"
   ]
  },
  {
   "cell_type": "markdown",
   "metadata": {
    "id": "Kp1OikzptqLd"
   },
   "source": [
    "# 1.1 Variables"
   ]
  },
  {
   "cell_type": "code",
   "execution_count": 2,
   "metadata": {
    "id": "2UZw0s5BTONT"
   },
   "outputs": [
    {
     "name": "stdout",
     "output_type": "stream",
     "text": [
      "3.21\n",
      "<class 'float'>\n",
      "1.23\n",
      "<class 'float'>\n",
      "4.4399999999999995\n",
      "5\n",
      "<class 'int'>\n"
     ]
    }
   ],
   "source": [
    "a=3.21 \n",
    "A=1.23 \n",
    "num=5 \n",
    "\n",
    "print(a) \n",
    "print(type(a)) \n",
    "\n",
    "print(A) \n",
    "print(type(A)) \n",
    "\n",
    "print(a+A)\n",
    "\n",
    "print(num)\n",
    "print(type(num)) "
   ]
  },
  {
   "cell_type": "code",
   "execution_count": 3,
   "metadata": {
    "id": "juhrRlNqT7xq"
   },
   "outputs": [
    {
     "name": "stdout",
     "output_type": "stream",
     "text": [
      "12 <class 'int'>\n"
     ]
    }
   ],
   "source": [
    "age=12\n",
    "height=103.5\n",
    "C=5+2j\n",
    "gender='male'\n",
    "# gender=\"male\"\n",
    "# gender=\"\"\"male\"\"\"\n",
    "single=True\n",
    "single=False\n",
    "print(age,type(age))\n"
   ]
  },
  {
   "cell_type": "markdown",
   "metadata": {
    "id": "00cA0TZZhOqV"
   },
   "source": [
    "# 1.2 Form Field"
   ]
  },
  {
   "cell_type": "code",
   "execution_count": 4,
   "metadata": {
    "id": "qQaJICKhgY1E"
   },
   "outputs": [
    {
     "name": "stdout",
     "output_type": "stream",
     "text": [
      "test a 87\n"
     ]
    }
   ],
   "source": [
    "# =====\n",
    "in1 = \"test\" #@param {type:\"string\"}\n",
    "in2 = \"a\" #@param [\"a\", \"b\", \"c\"]\n",
    "in3 = 87 #@param {type:\"slider\", min:0, max:100, step:1}\n",
    "print(in1,in2,in3)"
   ]
  },
  {
   "cell_type": "markdown",
   "metadata": {
    "id": "K4fVB4Wgt6lX"
   },
   "source": [
    "# 1.3 Basic math operations"
   ]
  },
  {
   "cell_type": "code",
   "execution_count": 5,
   "metadata": {
    "id": "cTX0rCPXUSrz"
   },
   "outputs": [
    {
     "name": "stdout",
     "output_type": "stream",
     "text": [
      "plus:  35\n",
      "minus:  13\n",
      "multiply:  264\n",
      "divide:  2.1818181818181817\n",
      "pow1:  1521681143169024\n",
      "pow2:  1521681143169024\n",
      "pow3:  4\n",
      "divide2:  2\n",
      "modulo:  2\n"
     ]
    }
   ],
   "source": [
    "var1 = 24\n",
    "var2 = 11\n",
    "print(\"plus: \",var1+var2)\n",
    "print(\"minus: \",var1-var2)\n",
    "print(\"multiply: \",var1*var2)\n",
    "print(\"divide: \",var1/var2)\n",
    "print(\"pow1: \",var1**var2)\n",
    "print(\"pow2: \",pow(var1,var2))\n",
    "print(\"pow3: \",pow(var1,var2,5))\n",
    "print(\"divide2: \",var1//var2)\n",
    "print(\"modulo: \",var1%var2)"
   ]
  },
  {
   "cell_type": "code",
   "execution_count": 6,
   "metadata": {
    "id": "_ZKIp2acXbY8"
   },
   "outputs": [
    {
     "name": "stdout",
     "output_type": "stream",
     "text": [
      "16.0\n"
     ]
    }
   ],
   "source": [
    "var3 = (var1 + var2)/5\n",
    "var3 = var3-2\n",
    "var3 = var3+var2\n",
    "print(var3)"
   ]
  },
  {
   "cell_type": "markdown",
   "metadata": {
    "id": "aAsZJnvZuN3P"
   },
   "source": [
    "# 1.4 Comparision"
   ]
  },
  {
   "cell_type": "code",
   "execution_count": 7,
   "metadata": {
    "id": "5keKBF7_mDNo"
   },
   "outputs": [
    {
     "name": "stdout",
     "output_type": "stream",
     "text": [
      "True <class 'bool'>\n",
      "False\n",
      "True\n",
      "False\n",
      "False\n",
      "True\n"
     ]
    }
   ],
   "source": [
    "\n",
    "var1 = 24\n",
    "var2 = 11\n",
    "var3 = (var1>var2)\n",
    "print(var3,type(var3))\n",
    "print(var1<var2)\n",
    "print(var1>=var2)\n",
    "print(var1<=var2)\n",
    "print(var1==var2)\n",
    "print(var1!=var2)"
   ]
  },
  {
   "cell_type": "markdown",
   "metadata": {
    "id": "DEOg5COhuR8O"
   },
   "source": [
    "# 1.5 Boolean operation"
   ]
  },
  {
   "cell_type": "code",
   "execution_count": 8,
   "metadata": {
    "id": "vcP82Da7ni2w"
   },
   "outputs": [
    {
     "name": "stdout",
     "output_type": "stream",
     "text": [
      "False\n",
      "True\n",
      "True\n",
      "True\n"
     ]
    }
   ],
   "source": [
    "var1 = True\n",
    "var2 = False\n",
    "var3 = var1 and var2\n",
    "\n",
    "\n",
    "print(var3)\n",
    "print(var1 or var2)\n",
    "print(not var2)\n",
    "print(var1 and (not var2))"
   ]
  },
  {
   "cell_type": "code",
   "execution_count": 9,
   "metadata": {
    "id": "0lAqCdOgm0jQ"
   },
   "outputs": [
    {
     "name": "stdout",
     "output_type": "stream",
     "text": [
      "0.30000000000000004\n",
      "False\n"
     ]
    }
   ],
   "source": [
    "print(0.1+0.2)\n",
    "print(0.1+0.2 == 0.3)"
   ]
  },
  {
   "cell_type": "code",
   "execution_count": 10,
   "metadata": {
    "id": "-6YTkCVBh4dq"
   },
   "outputs": [],
   "source": [
    "# del var2\n",
    "# print(var2)"
   ]
  },
  {
   "cell_type": "markdown",
   "metadata": {
    "id": "JWa-SS0rZztD"
   },
   "source": [
    "# 1.6 Installing and Importing Libraries"
   ]
  },
  {
   "cell_type": "code",
   "execution_count": 11,
   "metadata": {
    "id": "wROHZ0STWtuj"
   },
   "outputs": [],
   "source": [
    "# !python --version\n",
    "# !pip list\n",
    "# !pip freeze\n",
    "# !pip freeze > requirements.txt\n",
    "\n"
   ]
  },
  {
   "cell_type": "code",
   "execution_count": 12,
   "metadata": {
    "id": "Ke-___9VWRkM"
   },
   "outputs": [],
   "source": [
    "## https://pypi.org/project/pythainlp/\n",
    "# !pip install pythainlp\n",
    "# !pip install --upgrade pythainlp\n",
    "# !pip uninstall  pythainlp\n",
    "\n",
    "# !pip install -r requirements.txt"
   ]
  },
  {
   "cell_type": "code",
   "execution_count": 13,
   "metadata": {
    "id": "_XazKl62gUc5"
   },
   "outputs": [],
   "source": [
    "# import math\n",
    "# print(dir(math))\n",
    "# print(math.sin(2))\n",
    "# print(math.sqrt(2))\n",
    "# del math\n",
    "\n",
    "# from math import sqrt\n",
    "# # print(math.sin(2))\n",
    "# # print(sin(2))\n",
    "# print(sqrt(2))\n",
    "# del sqrt\n",
    "\n",
    "\n",
    "# from math import *\n",
    "# print(sin(2))\n",
    "# print(sqrt(2))\n",
    "\n",
    "# from math import sqrt as sqt\n",
    "# sqt(4)"
   ]
  },
  {
   "cell_type": "code",
   "execution_count": 14,
   "metadata": {
    "id": "ePaztGvDqnuI"
   },
   "outputs": [],
   "source": [
    "# ?math.sin"
   ]
  },
  {
   "cell_type": "markdown",
   "metadata": {
    "id": "0lrX2I4UupL3"
   },
   "source": [
    "# 1.7 Mathematical functions "
   ]
  },
  {
   "cell_type": "code",
   "execution_count": 15,
   "metadata": {
    "id": "Kjegle0hqBeP"
   },
   "outputs": [
    {
     "name": "stdout",
     "output_type": "stream",
     "text": [
      "abs:  10.6\n",
      "round:  11\n",
      "e:  2.718281828459045\n",
      "pi:  3.141592653589793\n",
      "sin:  -0.9227754216128067\n",
      "floor:  10\n",
      "ceil:  11\n",
      "exp:  40134.83743087578\n",
      "sqrt:  3.255764119219941\n",
      "log_e:  2.3608540011180215\n",
      "log:  2.1489419201565423\n"
     ]
    }
   ],
   "source": [
    "import math\n",
    "var1 = 10.6\n",
    "var2 = 3.4\n",
    "print(\"abs: \",abs(var1))\n",
    "print(\"round: \",round(var1))\n",
    "\n",
    "print(\"e: \",math.e)\n",
    "print(\"pi: \",math.pi)\n",
    "\n",
    "print(\"sin: \",math.sin(var1))\n",
    "print(\"floor: \",math.floor(var1))\n",
    "print(\"ceil: \",math.ceil(var1))\n",
    "print(\"exp: \",math.exp(var1))\n",
    "print(\"sqrt: \",math.sqrt(var1))\n",
    "print(\"log_e: \",math.log(var1))\n",
    "print(\"log: \",math.log(var1,3))\n"
   ]
  },
  {
   "cell_type": "markdown",
   "metadata": {
    "id": "XKiwcW0HiUpZ"
   },
   "source": [
    "exercise\n",
    "![image.png](data:image/png;base64,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)"
   ]
  },
  {
   "cell_type": "code",
   "execution_count": 16,
   "metadata": {
    "id": "Tki89k6IrI0Y"
   },
   "outputs": [],
   "source": [
    "x = 1 \n",
    "mu = 0.5\n",
    "sigma = 1.5\n",
    "# ..."
   ]
  },
  {
   "cell_type": "markdown",
   "metadata": {
    "id": "bsH9L_UrrtrO"
   },
   "source": [
    "# 2 List, Tuple, Set ,and Dictionary"
   ]
  },
  {
   "cell_type": "code",
   "execution_count": 17,
   "metadata": {
    "id": "HqeMqBXCr7n2"
   },
   "outputs": [
    {
     "name": "stdout",
     "output_type": "stream",
     "text": [
      "['red', 'green', 'green', 25]\n",
      "{25, 'red', 'green'}\n",
      "(250000, 'male', 25, 25)\n",
      "{'income': 250000, 'gender': 'male', 'age': 25, 'experience': 25}\n"
     ]
    }
   ],
   "source": [
    "\n",
    "list1 = [\"red\",\"green\",\"green\",25]\n",
    "set1 = {\"red\",\"green\",\"green\",25}\n",
    "\n",
    "tuple1 = (250000,\"male\",25,25)\n",
    "dict1 = {\"income\":250000,\"gender\":\"male\",\n",
    "         \"age\":25,\"experience\":25}\n",
    "\n",
    "print(list1)\n",
    "print(set1)\n",
    "print(tuple1)\n",
    "print(dict1)"
   ]
  },
  {
   "cell_type": "markdown",
   "metadata": {
    "id": "bou65YbTvEWx"
   },
   "source": [
    "# 2.1 List"
   ]
  },
  {
   "cell_type": "code",
   "execution_count": 18,
   "metadata": {
    "id": "sNuWhvKMv7c9"
   },
   "outputs": [
    {
     "name": "stdout",
     "output_type": "stream",
     "text": [
      "blue\n",
      "r\n",
      "['red', 'blue', 'red']\n",
      "['r', 'b']\n",
      "[1, 'red', 'blue']\n"
     ]
    }
   ],
   "source": [
    "list1 = [1, 'red', 'blue', 'red', 'r', 'b']\n",
    "\n",
    "print(list1[2])\n",
    "print(list1[-2])\n",
    "print(list1[1:4])\n",
    "print(list1[4:])\n",
    "print(list1[:3])\n",
    "\n"
   ]
  },
  {
   "cell_type": "code",
   "execution_count": 19,
   "metadata": {
    "id": "cyaJK5rEw7_-"
   },
   "outputs": [
    {
     "name": "stdout",
     "output_type": "stream",
     "text": [
      "['red', 'red']\n",
      "[1, 'blue']\n",
      "['red', 'red', 'b']\n",
      "['red', 'blue', 'red']\n",
      "['red', 'blue', 'red', 'r', 'b']\n",
      "[1, 'red', 'blue', 'red', 'r', 'b']\n"
     ]
    }
   ],
   "source": [
    "list1 = [1, 'red', 'blue', 'red', 'r', 'b']\n",
    "print(list1[1:4:2])\n",
    "print(list1[:4:2])\n",
    "print(list1[1::2])\n",
    "print(list1[1:4:])\n",
    "print(list1[1::])\n",
    "print(list1[::])"
   ]
  },
  {
   "cell_type": "code",
   "execution_count": 20,
   "metadata": {
    "id": "fM3InUpuxi89"
   },
   "outputs": [
    {
     "name": "stdout",
     "output_type": "stream",
     "text": [
      "[1, [2, 3], [4, 5, 6], [[7, 8], 9]]\n",
      "[4, 5, 6]\n",
      "5\n"
     ]
    }
   ],
   "source": [
    "# Nested list\n",
    "list1 = [1, [2, 3], [4, 5, 6], [[7, 8], 9]] \n",
    "print(list1)\n",
    "print(list1[2])\n",
    "print(list1[2][1])"
   ]
  },
  {
   "cell_type": "code",
   "execution_count": 21,
   "metadata": {
    "id": "v3aQ_GyQ1dK9"
   },
   "outputs": [
    {
     "name": "stdout",
     "output_type": "stream",
     "text": [
      "[1, 'red', 'blue', 'red', 'r', 'b', 1, 5, 3, 7]\n"
     ]
    }
   ],
   "source": [
    "list1 = [1, 'red', 'blue', 'red', 'r', 'b']\n",
    "list2 = [1, 5,3,7]\n",
    "print(list1+list2)\n",
    "\n",
    "# list1.remove('red')\n",
    "# print(list1)\n",
    "\n",
    "# list1.append(12)\n",
    "# print(list1)\n",
    "\n",
    "# list2.sort()\n",
    "# print(list2)\n",
    "\n",
    "# list2.sort(reverse=True)\n",
    "# print(list2)\n",
    "\n",
    "\n",
    "# list2.reverse()\n",
    "# print(list2)"
   ]
  },
  {
   "cell_type": "code",
   "execution_count": 22,
   "metadata": {
    "id": "fULN2ieY2iht"
   },
   "outputs": [
    {
     "name": "stdout",
     "output_type": "stream",
     "text": [
      "6\n"
     ]
    }
   ],
   "source": [
    "print(len(list1))"
   ]
  },
  {
   "cell_type": "code",
   "execution_count": 23,
   "metadata": {
    "id": "caqGIYh30sJ9"
   },
   "outputs": [],
   "source": [
    "#EX print -> 8"
   ]
  },
  {
   "cell_type": "markdown",
   "metadata": {
    "id": "p9DH6f0pvEiI"
   },
   "source": [
    "# 2.2 Set"
   ]
  },
  {
   "cell_type": "code",
   "execution_count": 24,
   "metadata": {
    "id": "P8uoTbvZ02_1"
   },
   "outputs": [
    {
     "name": "stdout",
     "output_type": "stream",
     "text": [
      "{False, 1, 'r', 'blue', 'red', 'b'}\n",
      "True\n",
      "{False, 1, 2, 'blue', 'r', 'red', 'b'}\n",
      "{'blue', 'red'}\n",
      "{False, 1, 'b', 'r'}\n",
      "6\n",
      "{2, 'blue', 'red', 'b'}\n"
     ]
    }
   ],
   "source": [
    "set1 = {1, 'red', 'blue', 'red', 'r', 'b',False}\n",
    "set2 = {2, 'red', 'blue'}\n",
    "set3 = {2, 'red', 'b'}\n",
    "print(set1)\n",
    "print('red' in set1)\n",
    "print(set1.union(set2))\n",
    "print(set1.intersection(set2))\n",
    "print(set1-set2)\n",
    "print(len(set1))\n",
    "print((set1.intersection(set2)).union(set3))"
   ]
  },
  {
   "cell_type": "markdown",
   "metadata": {
    "id": "J9Dvysutu8o3"
   },
   "source": [
    "# 2.3 Tuple"
   ]
  },
  {
   "cell_type": "code",
   "execution_count": 25,
   "metadata": {
    "id": "kn4anapq22u9"
   },
   "outputs": [
    {
     "name": "stdout",
     "output_type": "stream",
     "text": [
      "(250000, 'male', 25, 25, 250000, 'female', 13, 12)\n"
     ]
    }
   ],
   "source": [
    "tuple1 = (250000,\"male\",25,25)\n",
    "tuple2 = (250000,\"female\",13,12)\n",
    "print(tuple1+tuple2)"
   ]
  },
  {
   "cell_type": "code",
   "execution_count": 26,
   "metadata": {
    "id": "ceWbEH2o4dhk"
   },
   "outputs": [
    {
     "name": "stdout",
     "output_type": "stream",
     "text": [
      "{25, 'red', 'green'}\n",
      "('red', 'green', 'green', 25)\n"
     ]
    }
   ],
   "source": [
    "list1 = [\"red\",\"green\",\"green\",25]\n",
    "print(set(list1))\n",
    "print(tuple(list1))\n"
   ]
  },
  {
   "cell_type": "code",
   "execution_count": 27,
   "metadata": {
    "id": "dRsWsaNX4yXV"
   },
   "outputs": [
    {
     "name": "stdout",
     "output_type": "stream",
     "text": [
      "[25, 'red', 'green']\n",
      "(25, 'red', 'green')\n"
     ]
    }
   ],
   "source": [
    "set1 = {\"red\",\"green\",\"green\",25}\n",
    "print(list(set1))\n",
    "print(tuple(set1))"
   ]
  },
  {
   "cell_type": "code",
   "execution_count": 28,
   "metadata": {
    "id": "a0CGAApx40w-"
   },
   "outputs": [
    {
     "name": "stdout",
     "output_type": "stream",
     "text": [
      "[250000, 'male', 25, 25]\n",
      "{250000, 'male', 25}\n"
     ]
    }
   ],
   "source": [
    "tuple1 = (250000,\"male\",25,25)\n",
    "print(list(tuple1))\n",
    "print(set(tuple1))"
   ]
  },
  {
   "cell_type": "markdown",
   "metadata": {
    "id": "wO9DyGH-vEyG"
   },
   "source": [
    "# 2.4 Dictionary"
   ]
  },
  {
   "cell_type": "code",
   "execution_count": 29,
   "metadata": {
    "id": "UYgEtvNl3nxt"
   },
   "outputs": [
    {
     "name": "stdout",
     "output_type": "stream",
     "text": [
      "250000\n"
     ]
    }
   ],
   "source": [
    "dict1 = {\"income\":250000,\"gender\":\"male\",\n",
    "         \"age\":25,\"experience\":25}\n",
    "print(dict1[\"income\"])"
   ]
  },
  {
   "cell_type": "code",
   "execution_count": 30,
   "metadata": {
    "id": "AtPpfC8y353t"
   },
   "outputs": [
    {
     "name": "stdout",
     "output_type": "stream",
     "text": [
      "[250000, 3000, 5000]\n"
     ]
    }
   ],
   "source": [
    "dict1 = {\"income\":[250000,3000,5000],\"gender\":\"male\",\n",
    "         \"age\":25,\"experience\":25}\n",
    "print(dict1[\"income\"])"
   ]
  },
  {
   "cell_type": "code",
   "execution_count": 31,
   "metadata": {
    "id": "fysbF2x34Bpk"
   },
   "outputs": [
    {
     "name": "stdout",
     "output_type": "stream",
     "text": [
      "{'A': 250000, 'B': 3000, 'C': 5000}\n"
     ]
    }
   ],
   "source": [
    "dict1 = {\"income\":{\"A\":250000,\"B\":3000,\"C\":5000},\n",
    "         \"gender\":\"male\",\n",
    "         \"age\":25,\"experience\":25}\n",
    "print(dict1[\"income\"])"
   ]
  },
  {
   "cell_type": "code",
   "execution_count": 32,
   "metadata": {
    "id": "Xx9t-hse4PjE"
   },
   "outputs": [
    {
     "name": "stdout",
     "output_type": "stream",
     "text": [
      "dict_keys(['income', 'gender', 'age', 'experience'])\n",
      "dict_values([{'A': 250000, 'B': 3000, 'C': 5000}, 'male', 25, 25])\n"
     ]
    }
   ],
   "source": [
    "dict1 = {\"income\":{\"A\":250000,\"B\":3000,\"C\":5000},\n",
    "         \"gender\":\"male\",\n",
    "         \"age\":25,\"experience\":25}\n",
    "print(dict1.keys())\n",
    "print(dict1.values())"
   ]
  },
  {
   "cell_type": "markdown",
   "metadata": {
    "id": "25qfjjPE5vdE"
   },
   "source": [
    "# 3 Condition and Loop"
   ]
  },
  {
   "cell_type": "markdown",
   "metadata": {
    "id": "LukX55eSAvn6"
   },
   "source": [
    "# 3.1 Condition "
   ]
  },
  {
   "cell_type": "code",
   "execution_count": 33,
   "metadata": {
    "id": "ysgCb0eB5O6L"
   },
   "outputs": [
    {
     "name": "stdout",
     "output_type": "stream",
     "text": [
      "A\n",
      "C\n"
     ]
    }
   ],
   "source": [
    "cond = True\n",
    "if cond:\n",
    "    print(\"A\")\n",
    "else:\n",
    "    print(\"B\")\n",
    "print(\"C\")"
   ]
  },
  {
   "cell_type": "code",
   "execution_count": 34,
   "metadata": {
    "id": "xCTUIMWz75EM"
   },
   "outputs": [
    {
     "name": "stdout",
     "output_type": "stream",
     "text": [
      "ไม่ผ่าน\n"
     ]
    }
   ],
   "source": [
    "score=47\n",
    "if score>50:\n",
    "    print(\"ผ่าน\")\n",
    "else:\n",
    "    print(\"ไม่ผ่าน\")"
   ]
  },
  {
   "cell_type": "code",
   "execution_count": 35,
   "metadata": {
    "id": "HI4bzcmP-cnF"
   },
   "outputs": [
    {
     "name": "stdout",
     "output_type": "stream",
     "text": [
      "ไม่ผ่าน\n"
     ]
    }
   ],
   "source": [
    "score=2\n",
    "if score>50:\n",
    "    print(\"ผ่าน\")\n",
    "elif score>10:\n",
    "    print(\"สอบอีกรอบ\")\n",
    "else:\n",
    "    print(\"ไม่ผ่าน\")\n",
    "\n"
   ]
  },
  {
   "cell_type": "code",
   "execution_count": 36,
   "metadata": {
    "id": "rgpMcPeL8QGj"
   },
   "outputs": [
    {
     "name": "stdout",
     "output_type": "stream",
     "text": [
      "C\n"
     ]
    }
   ],
   "source": [
    "x = 25\n",
    "if x<10:\n",
    "    print(\"A\")\n",
    "elif x<20:\n",
    "    print(\"B\")\n",
    "else:\n",
    "    print(\"C\")"
   ]
  },
  {
   "cell_type": "markdown",
   "metadata": {
    "id": "c2YYin2L7Uwz"
   },
   "source": [
    "แบบฝึกหัด คำนวณ BMI"
   ]
  },
  {
   "cell_type": "markdown",
   "metadata": {
    "id": "6GuVz3fk7M-8"
   },
   "source": [
    "BMI = w/(h**2) <br/>\n",
    "น้อยกว่า 18.50\tน้ำหนักน้อย / ผอม\tมากกว่าคนปกติ <br/>\n",
    "ระหว่าง 18.50 - 22.90\tปกติ (สุขภาพดี)\tเท่าคนปกติ<br/>\n",
    "ระหว่าง 23 - 24.90\tท้วม / โรคอ้วนระดับ 1\tอันตรายระดับ 1<br/>\n",
    "ระหว่าง 25 - 29.90\tอ้วน / โรคอ้วนระดับ 2\tอันตรายระดับ 2<br/>\n",
    "มากกว่า 30\tอ้วนมาก / โรคอ้วนระดับ 3\tอันตรายระดับ 3<br/>"
   ]
  },
  {
   "cell_type": "markdown",
   "metadata": {
    "id": "48ZfsGbiAzrp"
   },
   "source": [
    "# 3.2 while loop"
   ]
  },
  {
   "cell_type": "code",
   "execution_count": 37,
   "metadata": {
    "id": "NOlaLIVn6-RE"
   },
   "outputs": [
    {
     "name": "stdout",
     "output_type": "stream",
     "text": [
      "0\n",
      "1\n",
      "2\n",
      "3\n",
      "4\n"
     ]
    }
   ],
   "source": [
    "# while loop\n",
    "i=0\n",
    "while i<5:\n",
    "    print(i)\n",
    "    i=i+1"
   ]
  },
  {
   "cell_type": "code",
   "execution_count": 38,
   "metadata": {
    "id": "y0XVNlTm9_qu"
   },
   "outputs": [
    {
     "name": "stdout",
     "output_type": "stream",
     "text": [
      "2\n",
      "47\n"
     ]
    }
   ],
   "source": [
    "scores=[2,47,0,52]\n",
    "i=0\n",
    "while scores[i] > 0:\n",
    "    print(scores[i])\n",
    "    i=i+1"
   ]
  },
  {
   "cell_type": "code",
   "execution_count": 39,
   "metadata": {
    "id": "QO4VPeL-_h40"
   },
   "outputs": [
    {
     "name": "stdout",
     "output_type": "stream",
     "text": [
      "2\n",
      "47\n"
     ]
    }
   ],
   "source": [
    "scores=[2,47,0,52]\n",
    "i=0\n",
    "while True:\n",
    "    print(scores[i])\n",
    "    i=i+1\n",
    "    if scores[i]<=0:\n",
    "        break"
   ]
  },
  {
   "cell_type": "markdown",
   "metadata": {
    "id": "C3GpuINgA3GZ"
   },
   "source": [
    "# 3.3 for loop"
   ]
  },
  {
   "cell_type": "code",
   "execution_count": 40,
   "metadata": {
    "id": "6S1rqVKO_tvK"
   },
   "outputs": [
    {
     "name": "stdout",
     "output_type": "stream",
     "text": [
      "2\n",
      "47\n",
      "0\n",
      "52\n"
     ]
    }
   ],
   "source": [
    "# for loop\n",
    "scores=[2,47,0,52]\n",
    "for s in scores:\n",
    "    print(s)"
   ]
  },
  {
   "cell_type": "code",
   "execution_count": 41,
   "metadata": {
    "id": "8aH8eTDXAHXC"
   },
   "outputs": [
    {
     "name": "stdout",
     "output_type": "stream",
     "text": [
      "range(0, 5)\n",
      "[0, 1, 2, 3, 4]\n"
     ]
    }
   ],
   "source": [
    "r = range(5)\n",
    "print(r)\n",
    "print(list(r))"
   ]
  },
  {
   "cell_type": "code",
   "execution_count": 42,
   "metadata": {
    "id": "GipgkvdlARzC"
   },
   "outputs": [
    {
     "name": "stdout",
     "output_type": "stream",
     "text": [
      "range(3, 10)\n",
      "[3, 4, 5, 6, 7, 8, 9]\n"
     ]
    }
   ],
   "source": [
    "r = range(3,10)\n",
    "print(r)\n",
    "print(list(r))"
   ]
  },
  {
   "cell_type": "code",
   "execution_count": 43,
   "metadata": {
    "id": "iq8UIoxl_2P6"
   },
   "outputs": [
    {
     "name": "stdout",
     "output_type": "stream",
     "text": [
      "0 2\n",
      "1 47\n",
      "2 0\n"
     ]
    }
   ],
   "source": [
    "scores=[2,47,0,52]\n",
    "for i in range(3):\n",
    "    print(i,scores[i])"
   ]
  },
  {
   "cell_type": "code",
   "execution_count": 44,
   "metadata": {
    "id": "R9InVfc-AGFa"
   },
   "outputs": [
    {
     "name": "stdout",
     "output_type": "stream",
     "text": [
      "0 2\n",
      "1 47\n",
      "2 0\n",
      "3 52\n"
     ]
    }
   ],
   "source": [
    "scores=[2,47,0,52]\n",
    "for i in range(len(scores)):\n",
    "    print(i,scores[i])"
   ]
  },
  {
   "cell_type": "code",
   "execution_count": 45,
   "metadata": {
    "id": "2k5U9zexAhTa"
   },
   "outputs": [
    {
     "name": "stdout",
     "output_type": "stream",
     "text": [
      "0 ไม่ผ่าน\n",
      "1 ไม่ผ่าน\n",
      "2 ไม่ผ่าน\n",
      "3 ผ่าน\n"
     ]
    }
   ],
   "source": [
    "scores=[2,47,50,52]\n",
    "for i in range(len(scores)):\n",
    "    if scores[i]>50:\n",
    "        print(i,\"ผ่าน\")\n",
    "    else:\n",
    "        print(i,\"ไม่ผ่าน\")\n"
   ]
  },
  {
   "cell_type": "code",
   "execution_count": 46,
   "metadata": {
    "id": "ldRH7sWxBCJ5"
   },
   "outputs": [
    {
     "name": "stdout",
     "output_type": "stream",
     "text": [
      "0\n",
      "1\n",
      "2\n",
      "3\n",
      "4\n",
      "6\n",
      "7\n"
     ]
    }
   ],
   "source": [
    "for i in range(10):\n",
    "    if i==5:\n",
    "        continue\n",
    "    elif i==8:\n",
    "        break\n",
    "    print(i)"
   ]
  },
  {
   "cell_type": "markdown",
   "metadata": {
    "id": "6afpISMJBj8S"
   },
   "source": [
    "แบบฝึกหัด จงเขียน python code เพื่อหาตัวประกอบเฉพาะทั้งหมด \n",
    "ของ N1, N2\n",
    "เมื่อกำหนด \n",
    "N1=2475115831,\n",
    "N2=166153499473114472511703242428645381"
   ]
  },
  {
   "cell_type": "markdown",
   "metadata": {
    "id": "URPzXifuB3HB"
   },
   "source": [
    "# 4 custom function \n",
    "\n"
   ]
  },
  {
   "cell_type": "code",
   "execution_count": 47,
   "metadata": {
    "id": "Hi5lqD9CCqC9"
   },
   "outputs": [
    {
     "name": "stdout",
     "output_type": "stream",
     "text": [
      "result:  8\n"
     ]
    }
   ],
   "source": [
    "a = 5\n",
    "print(\"result: \",a+3)"
   ]
  },
  {
   "cell_type": "code",
   "execution_count": 48,
   "metadata": {
    "id": "ORnPRW7ECv2C"
   },
   "outputs": [
    {
     "name": "stdout",
     "output_type": "stream",
     "text": [
      "result:  8\n",
      "result:  8\n"
     ]
    }
   ],
   "source": [
    "def f1():\n",
    "    a = 5\n",
    "    print(\"result: \", a+3)\n",
    "f1()\n",
    "f1()\n"
   ]
  },
  {
   "cell_type": "code",
   "execution_count": 49,
   "metadata": {
    "id": "1ECT-TaaBhAC"
   },
   "outputs": [
    {
     "name": "stdout",
     "output_type": "stream",
     "text": [
      "6\n",
      "9\n",
      "14\n",
      "21\n"
     ]
    }
   ],
   "source": [
    "def f(x):\n",
    "    y = x**2 + 5\n",
    "    return y\n",
    "print(f(1))\n",
    "print(f(2))\n",
    "print(f(3))\n",
    "print(f(4))"
   ]
  },
  {
   "cell_type": "code",
   "execution_count": 50,
   "metadata": {
    "id": "I0MUWeZKDbnD"
   },
   "outputs": [
    {
     "name": "stdout",
     "output_type": "stream",
     "text": [
      "6\n"
     ]
    }
   ],
   "source": [
    "def f(x):\n",
    "    \"\"\"\n",
    "    param x: ...\n",
    "    \"\"\"\n",
    "    y = x**2 + 5\n",
    "    return y\n",
    "print(f(1))\n",
    "# ?f"
   ]
  },
  {
   "cell_type": "code",
   "execution_count": 51,
   "metadata": {
    "id": "uMf1U61sC_Sh"
   },
   "outputs": [
    {
     "name": "stdout",
     "output_type": "stream",
     "text": [
      "39\n"
     ]
    }
   ],
   "source": [
    "def f(x,y):\n",
    "    z = x**2 + y**2 + 5\n",
    "    return z\n",
    "result = f(5,3)\n",
    "print(result)"
   ]
  },
  {
   "cell_type": "code",
   "execution_count": 52,
   "metadata": {
    "id": "G97MWuguDuVz"
   },
   "outputs": [
    {
     "name": "stdout",
     "output_type": "stream",
     "text": [
      "16\n",
      "17\n"
     ]
    }
   ],
   "source": [
    "def f(x,y=6):\n",
    "    z = x + y + 5\n",
    "    return z\n",
    "result = f(5)\n",
    "print(result)\n",
    "result = f(x=6)\n",
    "print(result)"
   ]
  },
  {
   "cell_type": "code",
   "execution_count": 53,
   "metadata": {
    "id": "LhOVC6h6Br_r"
   },
   "outputs": [
    {
     "name": "stdout",
     "output_type": "stream",
     "text": [
      "39\n",
      "29\n"
     ]
    }
   ],
   "source": [
    "def f(x,y):\n",
    "    z1 = x**2 + y**2 + 5\n",
    "    z2 = x**2 + y**2 - 5\n",
    "    return z1,z2\n",
    "result1,result2 = f(5,3)\n",
    "print(result1)\n",
    "print(result2)"
   ]
  },
  {
   "cell_type": "code",
   "execution_count": 54,
   "metadata": {
    "id": "VTFwXme_FPBq"
   },
   "outputs": [
    {
     "name": "stdout",
     "output_type": "stream",
     "text": [
      "41\n"
     ]
    }
   ],
   "source": [
    "#lambda function\n",
    "# def f(x):\n",
    "#     y = x**2 + 5\n",
    "#     return y\n",
    "f2 = lambda x: (x**2 + 5)\n",
    "print(f2(6))"
   ]
  },
  {
   "cell_type": "code",
   "execution_count": 55,
   "metadata": {
    "id": "tDc4VPDnFoDh"
   },
   "outputs": [
    {
     "name": "stdout",
     "output_type": "stream",
     "text": [
      "39\n"
     ]
    }
   ],
   "source": [
    "f2 = lambda x,y=3: (x**2 + y)\n",
    "print(f2(6))"
   ]
  },
  {
   "cell_type": "markdown",
   "metadata": {
    "id": "bhERjA75D_Vz"
   },
   "source": [
    "แบบฝึกหัด\n",
    "\n",
    "$$sigmoid(x) ={\\frac {1}{1+e^{-x}}}$$"
   ]
  },
  {
   "cell_type": "code",
   "execution_count": null,
   "metadata": {
    "id": "iY0R6bbuFM9H"
   },
   "outputs": [],
   "source": []
  }
 ],
 "metadata": {
  "colab": {
   "authorship_tag": "ABX9TyMNhWFGKOsQZSi+C85yt+uN",
   "collapsed_sections": [],
   "mount_file_id": "1N6iKp-INp4pNi-LX5k-koT-EgCgTyDWW",
   "provenance": []
  },
  "kernelspec": {
   "display_name": "Python 3 (ipykernel)",
   "language": "python",
   "name": "python3"
  },
  "language_info": {
   "codemirror_mode": {
    "name": "ipython",
    "version": 3
   },
   "file_extension": ".py",
   "mimetype": "text/x-python",
   "name": "python",
   "nbconvert_exporter": "python",
   "pygments_lexer": "ipython3",
   "version": "3.9.7"
  }
 },
 "nbformat": 4,
 "nbformat_minor": 1
}
